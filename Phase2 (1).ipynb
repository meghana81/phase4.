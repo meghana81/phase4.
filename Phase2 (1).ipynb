{
 "cells": [
  {
   "cell_type": "code",
   "execution_count": 55,
   "id": "ce64c897-69d8-4b47-8529-0e1d774341b9",
   "metadata": {},
   "outputs": [
    {
     "name": "stdout",
     "output_type": "stream",
     "text": [
      "Dataset Preview:\n",
      "    Patient_ID          Name          Diagnosis  Age Gender   Medication  \\\n",
      "0         101      John Doe            diabtss   45      M    metformin   \n",
      "1         102    Jane Smith        Hyprtension   56      F   amlodipine   \n",
      "2         103  Alex Johnson  Coronry Artery Ds   65      M      aspirin   \n",
      "3         104           NaN                Flu   23      M  oseltamivir   \n",
      "4         105    Lisa White  Coronry Artery Ds   -1      F          NaN   \n",
      "\n",
      "   Visit_Date  \n",
      "0  01-10-2023  \n",
      "1  15-11-2023  \n",
      "2         NaN  \n",
      "3  01-12-2023  \n",
      "4  10-12-2023  \n"
     ]
    }
   ],
   "source": [
    "\n",
    "import pandas as pd\n",
    "\n",
    "# Load dataset\n",
    "data = pd.read_csv(\"healthcare_data.csv\")\n",
    "print(\"Dataset Preview:\\n\", data.head())\n"
   ]
  },
  {
   "cell_type": "code",
   "execution_count": 56,
   "id": "7a60cf26-fb4b-4956-b545-838867dedfca",
   "metadata": {},
   "outputs": [
    {
     "name": "stdout",
     "output_type": "stream",
     "text": [
      "After Handling Missing Values:\n",
      "    Patient_ID          Name          Diagnosis   Age Gender   Medication  \\\n",
      "0         101      John Doe            diabtss    45      M    metformin   \n",
      "1         102    Jane Smith        Hyprtension    56      F   amlodipine   \n",
      "2         103  Alex Johnson  Coronry Artery Ds    65      M      aspirin   \n",
      "3         104       Unknown                Flu    23      M  oseltamivir   \n",
      "4         105    Lisa White  Coronry Artery Ds  34.0      F      Unknown   \n",
      "5         105    Lisa White  Coronry Artery Ds  34.0      F      Unknown   \n",
      "\n",
      "   Visit_Date  \n",
      "0  01-10-2023  \n",
      "1  15-11-2023  \n",
      "2        NULL  \n",
      "3  01-12-2023  \n",
      "4  10-12-2023  \n",
      "5  10-12-2023  \n"
     ]
    }
   ],
   "source": [
    "# Replace invalid values in 'Age' and fill missing 'Name' and 'Medication'\n",
    "import pandas as pd\n",
    "\n",
    "# Disable the FutureWarning\n",
    "pd.set_option('future.no_silent_downcasting', True)\n",
    "\n",
    "# Replace invalid values in 'Age' and fill missing 'Name' and 'Medication'\n",
    "data['Age'] = data['Age'].replace(-1, None).fillna(data['Age'].median())\n",
    "data['Name'] = data['Name'].fillna('Unknown')\n",
    "data['Medication'] = data['Medication'].fillna('Unknown')\n",
    "\n",
    "# Ensure 'Visit_Date' missing values are explicitly replaced with 'NULL'\n",
    "data['Visit_Date'] = data['Visit_Date'].fillna('NULL')\n",
    "\n",
    "# Display the cleaned data\n",
    "print(\"After Handling Missing Values:\\n\", data)"
   ]
  },
  {
   "cell_type": "code",
   "execution_count": 57,
   "id": "cea24281-badb-48c4-b30a-079f4db30a70",
   "metadata": {},
   "outputs": [
    {
     "name": "stdout",
     "output_type": "stream",
     "text": [
      "After Removing Duplicates:\n",
      "    Patient_ID          Name          Diagnosis   Age Gender   Medication  \\\n",
      "0         101      John Doe            diabtss    45      M    metformin   \n",
      "1         102    Jane Smith        Hyprtension    56      F   amlodipine   \n",
      "2         103  Alex Johnson  Coronry Artery Ds    65      M      aspirin   \n",
      "3         104       Unknown                Flu    23      M  oseltamivir   \n",
      "4         105    Lisa White  Coronry Artery Ds  34.0      F      Unknown   \n",
      "\n",
      "   Visit_Date  \n",
      "0  01-10-2023  \n",
      "1  15-11-2023  \n",
      "2        NULL  \n",
      "3  01-12-2023  \n",
      "4  10-12-2023  \n"
     ]
    }
   ],
   "source": [
    "# Drop duplicate records\n",
    "data = data.drop_duplicates()\n",
    "print(\"After Removing Duplicates:\\n\", data)\n",
    "\n"
   ]
  },
  {
   "cell_type": "code",
   "execution_count": 58,
   "id": "6a095b10-08aa-4894-95c3-71d31fc8d30f",
   "metadata": {},
   "outputs": [
    {
     "name": "stdout",
     "output_type": "stream",
     "text": [
      "After Normalizing Diagnoses:\n",
      "    Patient_ID          Name                Diagnosis   Age Gender  \\\n",
      "0         101      John Doe                 Diabetes    45      M   \n",
      "1         102    Jane Smith             Hypertension    56      F   \n",
      "2         103  Alex Johnson  Coronary Artery Disease    65      M   \n",
      "3         104       Unknown                Influenza    23      M   \n",
      "4         105    Lisa White  Coronary Artery Disease  34.0      F   \n",
      "\n",
      "    Medication  Visit_Date  \n",
      "0    metformin  01-10-2023  \n",
      "1   amlodipine  15-11-2023  \n",
      "2      aspirin        NULL  \n",
      "3  oseltamivir  01-12-2023  \n",
      "4      Unknown  10-12-2023  \n"
     ]
    }
   ],
   "source": [
    "import spacy\n",
    "\n",
    "# Load SpaCy model\n",
    "nlp = spacy.load(\"en_core_web_sm\")\n",
    "\n",
    "# Predefined mapping for diagnosis normalization\n",
    "diagnosis_mapping = {\n",
    "    \"diabtss\": \"Diabetes\",\n",
    "    \"Hyprtension\": \"Hypertension\",\n",
    "    \"Coronry Artery Ds\": \"Coronary Artery Disease\",\n",
    "    \"Flu\": \"Influenza\"\n",
    "}\n",
    "\n",
    "# Normalize Diagnosis\n",
    "data['Diagnosis'] = data['Diagnosis'].apply(lambda x: diagnosis_mapping.get(x, x))\n",
    "print(\"After Normalizing Diagnoses:\\n\", data)\n"
   ]
  },
  {
   "cell_type": "code",
   "execution_count": 59,
   "id": "7d8a2c52-fef8-4873-bb18-4dafb37d0366",
   "metadata": {},
   "outputs": [
    {
     "name": "stdout",
     "output_type": "stream",
     "text": [
      "Collecting en-core-web-sm==3.8.0\n",
      "  Downloading https://github.com/explosion/spacy-models/releases/download/en_core_web_sm-3.8.0/en_core_web_sm-3.8.0-py3-none-any.whl (12.8 MB)\n",
      "     ---------------------------------------- 0.0/12.8 MB ? eta -:--:--\n",
      "     ---------------------------------------- 0.0/12.8 MB ? eta -:--:--\n",
      "     ---------------------------------------- 0.0/12.8 MB ? eta -:--:--\n",
      "     --------------------------------------- 0.1/12.8 MB 544.7 kB/s eta 0:00:24\n",
      "      --------------------------------------- 0.2/12.8 MB 1.4 MB/s eta 0:00:10\n",
      "     - -------------------------------------- 0.4/12.8 MB 2.2 MB/s eta 0:00:06\n",
      "     - -------------------------------------- 0.6/12.8 MB 2.7 MB/s eta 0:00:05\n",
      "     -- ------------------------------------- 0.9/12.8 MB 3.3 MB/s eta 0:00:04\n",
      "     --- ------------------------------------ 1.2/12.8 MB 3.6 MB/s eta 0:00:04\n",
      "     ---- ----------------------------------- 1.5/12.8 MB 3.9 MB/s eta 0:00:03\n",
      "     ----- ---------------------------------- 1.7/12.8 MB 4.0 MB/s eta 0:00:03\n",
      "     ----- ---------------------------------- 1.9/12.8 MB 3.9 MB/s eta 0:00:03\n",
      "     ------ --------------------------------- 2.1/12.8 MB 3.9 MB/s eta 0:00:03\n",
      "     ------ --------------------------------- 2.1/12.8 MB 4.0 MB/s eta 0:00:03\n",
      "     ------ --------------------------------- 2.1/12.8 MB 4.0 MB/s eta 0:00:03\n",
      "     ------ --------------------------------- 2.1/12.8 MB 4.0 MB/s eta 0:00:03\n",
      "     -------- ------------------------------- 2.7/12.8 MB 3.9 MB/s eta 0:00:03\n",
      "     -------- ------------------------------- 2.9/12.8 MB 3.8 MB/s eta 0:00:03\n",
      "     --------- ------------------------------ 3.1/12.8 MB 3.9 MB/s eta 0:00:03\n",
      "     ---------- ----------------------------- 3.3/12.8 MB 4.0 MB/s eta 0:00:03\n",
      "     ----------- ---------------------------- 3.5/12.8 MB 4.0 MB/s eta 0:00:03\n",
      "     ----------- ---------------------------- 3.7/12.8 MB 3.9 MB/s eta 0:00:03\n",
      "     ----------- ---------------------------- 3.7/12.8 MB 3.9 MB/s eta 0:00:03\n",
      "     ----------- ---------------------------- 3.7/12.8 MB 3.9 MB/s eta 0:00:03\n",
      "     ------------ --------------------------- 4.0/12.8 MB 3.6 MB/s eta 0:00:03\n",
      "     -------------- ------------------------- 4.5/12.8 MB 3.9 MB/s eta 0:00:03\n",
      "     -------------- ------------------------- 4.7/12.8 MB 4.0 MB/s eta 0:00:03\n",
      "     --------------- ------------------------ 4.9/12.8 MB 3.9 MB/s eta 0:00:03\n",
      "     --------------- ------------------------ 5.0/12.8 MB 3.9 MB/s eta 0:00:02\n",
      "     ---------------- ----------------------- 5.2/12.8 MB 3.9 MB/s eta 0:00:02\n",
      "     ---------------- ----------------------- 5.4/12.8 MB 3.9 MB/s eta 0:00:02\n",
      "     ----------------- ---------------------- 5.6/12.8 MB 3.9 MB/s eta 0:00:02\n",
      "     ------------------ --------------------- 5.8/12.8 MB 4.0 MB/s eta 0:00:02\n",
      "     ------------------ --------------------- 6.0/12.8 MB 3.9 MB/s eta 0:00:02\n",
      "     ------------------- -------------------- 6.2/12.8 MB 3.9 MB/s eta 0:00:02\n",
      "     ------------------- -------------------- 6.3/12.8 MB 3.9 MB/s eta 0:00:02\n",
      "     -------------------- ------------------- 6.5/12.8 MB 3.9 MB/s eta 0:00:02\n",
      "     -------------------- ------------------- 6.7/12.8 MB 4.0 MB/s eta 0:00:02\n",
      "     --------------------- ------------------ 6.8/12.8 MB 3.9 MB/s eta 0:00:02\n",
      "     ---------------------- ----------------- 7.1/12.8 MB 3.9 MB/s eta 0:00:02\n",
      "     ---------------------- ----------------- 7.3/12.8 MB 3.9 MB/s eta 0:00:02\n",
      "     ----------------------- ---------------- 7.4/12.8 MB 3.9 MB/s eta 0:00:02\n",
      "     ----------------------- ---------------- 7.6/12.8 MB 3.9 MB/s eta 0:00:02\n",
      "     ------------------------ --------------- 7.7/12.8 MB 3.9 MB/s eta 0:00:02\n",
      "     ------------------------ --------------- 7.9/12.8 MB 4.0 MB/s eta 0:00:02\n",
      "     ------------------------- -------------- 8.1/12.8 MB 3.9 MB/s eta 0:00:02\n",
      "     ------------------------- -------------- 8.3/12.8 MB 3.9 MB/s eta 0:00:02\n",
      "     -------------------------- ------------- 8.5/12.8 MB 4.0 MB/s eta 0:00:02\n",
      "     --------------------------- ------------ 8.7/12.8 MB 4.0 MB/s eta 0:00:02\n",
      "     --------------------------- ------------ 8.9/12.8 MB 3.9 MB/s eta 0:00:02\n",
      "     ---------------------------- ----------- 9.0/12.8 MB 3.9 MB/s eta 0:00:01\n",
      "     ---------------------------- ----------- 9.2/12.8 MB 3.9 MB/s eta 0:00:01\n",
      "     ----------------------------- ---------- 9.4/12.8 MB 3.9 MB/s eta 0:00:01\n",
      "     ----------------------------- ---------- 9.6/12.8 MB 3.9 MB/s eta 0:00:01\n",
      "     ------------------------------ --------- 9.8/12.8 MB 3.9 MB/s eta 0:00:01\n",
      "     ------------------------------ --------- 9.9/12.8 MB 3.9 MB/s eta 0:00:01\n",
      "     ------------------------------- -------- 10.1/12.8 MB 4.0 MB/s eta 0:00:01\n",
      "     -------------------------------- ------- 10.3/12.8 MB 4.1 MB/s eta 0:00:01\n",
      "     -------------------------------- ------- 10.5/12.8 MB 4.1 MB/s eta 0:00:01\n",
      "     --------------------------------- ------ 10.7/12.8 MB 4.1 MB/s eta 0:00:01\n",
      "     --------------------------------- ------ 10.9/12.8 MB 4.0 MB/s eta 0:00:01\n",
      "     ---------------------------------- ----- 11.1/12.8 MB 4.0 MB/s eta 0:00:01\n",
      "     ---------------------------------- ----- 11.2/12.8 MB 4.0 MB/s eta 0:00:01\n",
      "     ----------------------------------- ---- 11.3/12.8 MB 4.0 MB/s eta 0:00:01\n",
      "     ------------------------------------ --- 11.5/12.8 MB 4.0 MB/s eta 0:00:01\n",
      "     ------------------------------------ --- 11.7/12.8 MB 4.0 MB/s eta 0:00:01\n",
      "     ------------------------------------- -- 11.9/12.8 MB 4.0 MB/s eta 0:00:01\n",
      "     ------------------------------------- -- 12.1/12.8 MB 3.9 MB/s eta 0:00:01\n",
      "     -------------------------------------- - 12.3/12.8 MB 3.9 MB/s eta 0:00:01\n",
      "     -------------------------------------- - 12.4/12.8 MB 4.1 MB/s eta 0:00:01\n",
      "     ---------------------------------------  12.6/12.8 MB 4.1 MB/s eta 0:00:01\n",
      "     ---------------------------------------  12.8/12.8 MB 4.0 MB/s eta 0:00:01\n",
      "     ---------------------------------------- 12.8/12.8 MB 3.9 MB/s eta 0:00:00\n",
      "\u001b[38;5;2m[+] Download and installation successful\u001b[0m\n",
      "You can now load the package via spacy.load('en_core_web_sm')\n"
     ]
    }
   ],
   "source": [
    "!python -m spacy download en_core_web_sm\n"
   ]
  },
  {
   "cell_type": "code",
   "execution_count": 60,
   "id": "d3531b37-f291-45ce-87a3-53e8a12878c0",
   "metadata": {},
   "outputs": [],
   "source": [
    "import spacy\n",
    "\n",
    "# Load the SpaCy model\n",
    "nlp = spacy.load(\"en_core_web_sm\")\n"
   ]
  },
  {
   "cell_type": "code",
   "execution_count": 61,
   "id": "1919beba-b51e-427b-9f49-da8014d8d7a7",
   "metadata": {},
   "outputs": [
    {
     "name": "stdout",
     "output_type": "stream",
     "text": [
      "{'spacy_version': '3.8.3', 'location': 'C:\\\\Users\\\\Nitin\\\\anaconda3\\\\Lib\\\\site-packages\\\\spacy', 'platform': 'Windows-11-10.0.22631-SP0', 'python_version': '3.12.4', 'pipelines': {}}\n"
     ]
    }
   ],
   "source": [
    "import spacy\n",
    "print(spacy.info())\n"
   ]
  },
  {
   "cell_type": "code",
   "execution_count": 62,
   "id": "9c826487-229f-4138-8efa-351c074e32dd",
   "metadata": {},
   "outputs": [
    {
     "data": {
      "image/png": "[encoded data removed]",
      "text/plain": [
       "<Figure size 800x600 with 1 Axes>"
      ]
     },
     "metadata": {},
     "output_type": "display_data"
    }
   ],
   "source": [
    "import matplotlib.pyplot as plt\n",
    "import seaborn as sns\n",
    "\n",
    "# Boxplot\n",
    "plt.figure(figsize=(8, 6))\n",
    "sns.boxplot(data['Age'])\n",
    "plt.title(\"Age Distribution\")\n",
    "plt.show()\n"
   ]
  },
  {
   "cell_type": "code",
   "execution_count": 63,
   "id": "6a947285-68ff-44e6-91ad-167a47f55bd8",
   "metadata": {},
   "outputs": [
    {
     "data": {
      "image/png": "[encoded data removed]",
      "text/plain": [
       "<Figure size 1000x800 with 2 Axes>"
      ]
     },
     "metadata": {},
     "output_type": "display_data"
    }
   ],
   "source": [
    "\n",
    "import seaborn as sns\n",
    "import matplotlib.pyplot as plt\n",
    "\n",
    "# Ensure you're using only numeric columns\n",
    "numeric_data = data.select_dtypes(include=['number'])\n",
    "\n",
    "# Optional: Handle missing values\n",
    "numeric_data = numeric_data.fillna(numeric_data.median())\n",
    "\n",
    "# Plot Heatmap\n",
    "plt.figure(figsize=(10, 8))\n",
    "sns.heatmap(numeric_data.corr(), annot=True, cmap='coolwarm')\n",
    "plt.title(\"Correlation Heatmap\")\n",
    "plt.show()\n"
   ]
  },
  {
   "cell_type": "code",
   "execution_count": 64,
   "id": "992c59b2-fea0-45de-bf7a-c53c602b1e75",
   "metadata": {},
   "outputs": [
    {
     "name": "stdout",
     "output_type": "stream",
     "text": [
      "Cleaned dataset saved as 'cleaned_healthcare_data.csv'\n"
     ]
    }
   ],
   "source": [
    "# Save cleaned dataset to CSV\n",
    "data.to_csv(\"cleaned_healthcare_data.csv\", index=False)\n",
    "print(\"Cleaned dataset saved as 'cleaned_healthcare_data.csv'\")\n"
   ]
  },
  {
   "cell_type": "code",
   "execution_count": null,
   "id": "c4130bc6-cb5c-4303-96ce-83ac4efe4cfb",
   "metadata": {},
   "outputs": [],
   "source": []
  }
 ],
 "metadata": {
  "kernelspec": {
   "display_name": "Python 3 (ipykernel)",
   "language": "python",
   "name": "python3"
  },
  "language_info": {
   "codemirror_mode": {
    "name": "ipython",
    "version": 3
   },
   "file_extension": ".py",
   "mimetype": "text/x-python",
   "name": "python",
   "nbconvert_exporter": "python",
   "pygments_lexer": "ipython3",
   "version": "3.12.4"
  }
 },
 "nbformat": 4,
 "nbformat_minor": 5
}
