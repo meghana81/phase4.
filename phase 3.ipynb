{
 "cells": [
  {
   "cell_type": "code",
   "execution_count": 1,
   "id": "9bb44cf8-bc37-48cf-8fe3-ee508dfd6189",
   "metadata": {},
   "outputs": [
    {
     "name": "stdout",
     "output_type": "stream",
     "text": [
      "Data after imputation:\n",
      "    Patient_ID   Age     Diagnosis\n",
      "0           1  25.0      Diabetes\n",
      "1           2  30.0          None\n",
      "2           3  35.0  Hypertension\n"
     ]
    }
   ],
   "source": [
    "#1.1 Handling Missing Values\n",
    "from sklearn.impute import KNNImputer\n",
    "import pandas as pd\n",
    "\n",
    "# Example dataset\n",
    "data = pd.DataFrame({\n",
    "    'Patient_ID': [1, 2, 3],\n",
    "    'Age': [25, None, 35],\n",
    "    'Diagnosis': ['Diabetes', None, 'Hypertension']\n",
    "})\n",
    "\n",
    "# Apply KNN Imputer\n",
    "imputer = KNNImputer(n_neighbors=2)\n",
    "data['Age'] = imputer.fit_transform(data[['Age']])\n",
    "print(\"Data after imputation:\\n\", data)\n"
   ]
  },
  {
   "cell_type": "code",
   "execution_count": 22,
   "id": "2e70da56-c866-45b9-9496-f0f6c8177b99",
   "metadata": {},
   "outputs": [
    {
     "name": "stdout",
     "output_type": "stream",
     "text": [
      "Outlier labels: [ 1  1  1 -1  1]\n"
     ]
    }
   ],
   "source": [
    "#1.2 Outlier Detection\n",
    "from sklearn.ensemble import IsolationForest\n",
    "import numpy as np\n",
    "\n",
    "# Example data\n",
    "X = np.array([[10], [12], [14], [100], [15]])\n",
    "\n",
    "# Detecting outliers\n",
    "clf = IsolationForest(contamination=0.2, random_state=42)\n",
    "outliers = clf.fit_predict(X)\n",
    "print(\"Outlier labels:\", outliers)\n"
   ]
  },
  {
   "cell_type": "code",
   "execution_count": 23,
   "id": "3d67d2f0-6085-427d-b764-f4a1012e03d8",
   "metadata": {},
   "outputs": [
    {
     "name": "stdout",
     "output_type": "stream",
     "text": [
      "Resampled class distribution: {0: 3, 1: 3}\n"
     ]
    }
   ],
   "source": [
    "#1.3 Addressing Imbalanced Classes\n",
    "from imblearn.over_sampling import SMOTE\n",
    "\n",
    "# Example dataset\n",
    "X = [[1], [2], [3], [4], [5]]\n",
    "y = [0, 0, 0, 1, 1]\n",
    "\n",
    "# Adjust n_neighbors to 1 since the minority class has only 2 samples\n",
    "smote = SMOTE(random_state=42, k_neighbors=1)\n",
    "X_resampled, y_resampled = smote.fit_resample(X, y)\n",
    "\n",
    "# Print resampled class distribution\n",
    "print(\"Resampled class distribution:\", \n",
    "      {label: sum(1 for i in y_resampled if i == label) for label in set(y_resampled)})\n",
    "\n"
   ]
  },
  {
   "cell_type": "code",
   "execution_count": 24,
   "id": "2c9c8985-53ae-44e9-b68f-2cfb5074f364",
   "metadata": {},
   "outputs": [
    {
     "name": "stdout",
     "output_type": "stream",
     "text": [
      "Accuracy: 1.00\n"
     ]
    }
   ],
   "source": [
    "#2.1 Baseline Model with Decision Tree\n",
    "from sklearn.model_selection import train_test_split\n",
    "from sklearn.tree import DecisionTreeClassifier\n",
    "from sklearn.metrics import accuracy_score\n",
    "\n",
    "# Splitting data\n",
    "X_train, X_test, y_train, y_test = train_test_split(X_resampled, y_resampled, test_size=0.2, random_state=42)\n",
    "\n",
    "# Decision Tree Model\n",
    "model = DecisionTreeClassifier(max_depth=3)\n",
    "model.fit(X_train, y_train)\n",
    "\n",
    "# Predictions\n",
    "predictions = model.predict(X_test)\n",
    "print(f\"Accuracy: {accuracy_score(y_test, predictions):.2f}\")\n"
   ]
  },
  {
   "cell_type": "code",
   "execution_count": 10,
   "id": "3d5936ea-a14d-47c9-87e0-08720d0e3ffa",
   "metadata": {},
   "outputs": [
    {
     "name": "stdout",
     "output_type": "stream",
     "text": [
      "Accuracy: 0.50\n",
      "\n",
      "Classification Report:\n",
      "              precision    recall  f1-score   support\n",
      "\n",
      "           0       0.50      1.00      0.67         1\n",
      "           1       0.00      0.00      0.00         1\n",
      "\n",
      "    accuracy                           0.50         2\n",
      "   macro avg       0.25      0.50      0.33         2\n",
      "weighted avg       0.25      0.50      0.33         2\n",
      "\n"
     ]
    },
    {
     "data": {
      "image/png": "[encoded data removed]",
      "text/plain": [
       "<Figure size 640x480 with 2 Axes>"
      ]
     },
     "metadata": {},
     "output_type": "display_data"
    }
   ],
   "source": [
    "#2.2 Advanced Model with Random Forest and 2.3 Evaluation Metrics\n",
    "from sklearn.model_selection import train_test_split\n",
    "from sklearn.ensemble import RandomForestClassifier\n",
    "from sklearn.metrics import classification_report, confusion_matrix, accuracy_score\n",
    "from imblearn.over_sampling import SMOTE\n",
    "import numpy as np\n",
    "import seaborn as sns\n",
    "import matplotlib.pyplot as plt\n",
    "\n",
    "# Example dataset (update this with your actual dataset)\n",
    "X = [[1], [2], [3], [4], [5]]\n",
    "y = [0, 0, 0, 1, 1]\n",
    "\n",
    "# Handle class imbalance with SMOTE\n",
    "smote = SMOTE(random_state=42, k_neighbors=1)  # Adjust k_neighbors based on minority class size\n",
    "X_resampled, y_resampled = smote.fit_resample(X, y)\n",
    "\n",
    "# Stratified train-test split to maintain class proportions\n",
    "X_train, X_test, y_train, y_test = train_test_split(\n",
    "    X_resampled, y_resampled, test_size=0.2, random_state=42, stratify=y_resampled\n",
    ")\n",
    "\n",
    "# Random Forest Classifier\n",
    "clf = RandomForestClassifier(\n",
    "    random_state=42,\n",
    "    n_estimators=30,\n",
    "    max_depth=5,\n",
    "    min_samples_split=10,\n",
    "    min_samples_leaf=5,\n",
    "    n_jobs=-1,\n",
    "    max_samples=0.8\n",
    ")\n",
    "\n",
    "# Train the model\n",
    "clf.fit(X_train, y_train)\n",
    "\n",
    "# Predictions\n",
    "y_pred = clf.predict(X_test)\n",
    "\n",
    "# Accuracy\n",
    "accuracy = accuracy_score(y_test, y_pred)\n",
    "print(f\"Accuracy: {accuracy:.2f}\")\n",
    "\n",
    "# Classification Report with zero_division handling\n",
    "print(\"\\nClassification Report:\")\n",
    "print(classification_report(y_test, y_pred, zero_division=0))\n",
    "\n",
    "# Confusion Matrix\n",
    "conf_matrix = confusion_matrix(y_test, y_pred)\n",
    "sns.heatmap(conf_matrix, annot=True, fmt='d', cmap='Blues')\n",
    "plt.title(\"Confusion Matrix\")\n",
    "plt.xlabel(\"Predicted Label\")\n",
    "plt.ylabel(\"True Label\")\n",
    "plt.show()\n",
    "\n"
   ]
  },
  {
   "cell_type": "code",
   "execution_count": null,
   "id": "34c1cdf2-8a6a-4532-b242-ce6a917a80a9",
   "metadata": {},
   "outputs": [],
   "source": []
  }
 ],
 "metadata": {
  "kernelspec": {
   "display_name": "Python 3 (ipykernel)",
   "language": "python",
   "name": "python3"
  },
  "language_info": {
   "codemirror_mode": {
    "name": "ipython",
    "version": 3
   },
   "file_extension": ".py",
   "mimetype": "text/x-python",
   "name": "python",
   "nbconvert_exporter": "python",
   "pygments_lexer": "ipython3",
   "version": "3.12.4"
  }
 },
 "nbformat": 4,
 "nbformat_minor": 5
}
